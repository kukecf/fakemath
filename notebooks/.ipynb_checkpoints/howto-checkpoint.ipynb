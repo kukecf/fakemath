{
 "cells": [
  {
   "cell_type": "markdown",
   "metadata": {
    "collapsed": true
   },
   "source": [
    "## 0. Getting started"
   ]
  },
  {
   "cell_type": "markdown",
   "metadata": {},
   "source": [
    "## 0.1 Import dependencies"
   ]
  },
  {
   "cell_type": "code",
   "execution_count": 2,
   "metadata": {},
   "outputs": [],
   "source": [
    "import cv2 as cv\n",
    "import tensorflow as tf\n",
    "import numpy as np\n",
    "import os\n",
    "from alive_progress import alive_bar\n",
    "from tensorflow.keras.layers import Input, Layer, Conv2D, Dense, Flatten, MaxPooling2D\n",
    "from tensorflow.keras.metrics import Precision, Recall\n",
    "from tensorflow.keras.models import Model"
   ]
  },
  {
   "cell_type": "markdown",
   "metadata": {},
   "source": [
    "## 0.2 Define path constants"
   ]
  },
  {
   "cell_type": "code",
   "execution_count": null,
   "metadata": {},
   "outputs": [],
   "source": [
    "EXAMPLE_PATH = os.path.join('data','handwritten_ex')\n",
    "MODELS_PATH = 'models'"
   ]
  },
  {
   "cell_type": "markdown",
   "metadata": {},
   "source": [
    "## 1. Implement a handwritten character detector"
   ]
  },
  {
   "cell_type": "code",
   "execution_count": 40,
   "metadata": {},
   "outputs": [],
   "source": [
    "#calculate Jaccard index (IoU) of bounding boxes A and B\n",
    "def bb_iou(boxA, boxB):\n",
    "    yA = max(boxA[0], boxB[0])\n",
    "    yB = min(boxA[1], boxB[1])\n",
    "    xA = max(boxA[2], boxB[2])\n",
    "    xB = min(boxA[3], boxB[3])\n",
    "\n",
    "    interArea = max(0, xB - xA+1) * max(0, yB - yA+1) \n",
    "    boxAArea = (boxA[3] - boxA[2]+1) * (boxA[1] - boxA[0]+1)\n",
    "    boxBArea = (boxB[3] - boxB[2]+1) * (boxB[1] - boxB[0]+1)\n",
    "    iou = interArea / float(boxAArea + boxBArea - interArea)\n",
    "    \n",
    "    return iou\n",
    "\n",
    "def bb_area(bb):\n",
    "    _,_,w,h = bb\n",
    "    return w*h\n",
    "\n",
    "def postprocess_bb(bounding_boxes, threshold):\n",
    "    indices_rem = []\n",
    "    for i in range(len(bounding_boxes)-1):\n",
    "        for j in range(i+1,len(bounding_boxes)):\n",
    "            if bb_iou(bounding_boxes[i],bounding_boxes[j]) > threshold:\n",
    "                areaI = bb_area(bounding_boxes[i])\n",
    "                areaJ = bb_area(bounding_boxes[j])\n",
    "                if areaI > areaJ:\n",
    "                    indices_rem.append(j)\n",
    "                    print(j)\n",
    "                else:\n",
    "                    indices_rem.append(i)\n",
    "                    print(i)\n",
    "    bounding_boxes = [i for j, i in enumerate(bounding_boxes) if j not in indices_rem]\n",
    "    return bounding_boxes"
   ]
  },
  {
   "cell_type": "code",
   "execution_count": null,
   "metadata": {},
   "outputs": [],
   "source": [
    "def detect_characters(image_path,kernel = (5,5), show_results = False, threshold = 0.1):\n",
    "    img = cv.imread(image_path)\n",
    "    gray = cv.cvtColor(img, cv.COLOR_BGR2GRAY)\n",
    "    ret, binary = cv.threshold(gray,127,255,cv.THRESH_BINARY)\n",
    "    opening = cv.morphologyEx(binary,cv.MORPH_CLOSE,kernel)\n",
    "    contours, _ = cv.findContours(opening, cv.RETR_TREE, cv.CHAIN_APPROX_SIMPLE)\n",
    "    bounding_boxes = []\n",
    "    for contour in contours:\n",
    "        area = cv.contourArea(contour)\n",
    "        if area > 100 and area < 5000:\n",
    "            x,y,w,h = cv.boundingRect(contour)\n",
    "            bounding_boxes.append((x,y,w,h))\n",
    "    bounding_boxes = postprocess_bb(bounding_boxes, threshold)\n",
    "    if show_results:\n",
    "        for (x,y,w,h) in bounding_boxes:\n",
    "            cv.rectangle(img,(x,y),(x+w,y+h),(0,0,255),2)\n",
    "            #cv.putText(img, str(area), (x-5,y-5), cv.FONT_HERSHEY_SIMPLEX, 1.0,(200,15,0),1)\n",
    "        cv.imshow('Image',img)\n",
    "        cv.imshow('Opening',opening)\n",
    "        cv.waitKey(0)\n",
    "    return bounding_boxes"
   ]
  },
  {
   "cell_type": "code",
   "execution_count": null,
   "metadata": {},
   "outputs": [],
   "source": [
    "files = os.listdir(EXAMPLE_PATH)\n",
    "it_files = iter(files)"
   ]
  },
  {
   "cell_type": "code",
   "execution_count": null,
   "metadata": {},
   "outputs": [],
   "source": [
    "#Try it out...\n",
    "\n",
    "file = next(it_files)\n",
    "detect_characters(os.path.join(EXAMPLE_PATH,file), show_results = True)"
   ]
  },
  {
   "cell_type": "markdown",
   "metadata": {},
   "source": [
    "## 2. Implement a handwritten character classifier"
   ]
  },
  {
   "cell_type": "code",
   "execution_count": null,
   "metadata": {},
   "outputs": [],
   "source": []
  },
  {
   "cell_type": "markdown",
   "metadata": {},
   "source": [
    "## 3. Implement a solver"
   ]
  },
  {
   "cell_type": "code",
   "execution_count": null,
   "metadata": {},
   "outputs": [],
   "source": []
  },
  {
   "cell_type": "code",
   "execution_count": null,
   "metadata": {},
   "outputs": [],
   "source": []
  },
  {
   "cell_type": "markdown",
   "metadata": {},
   "source": []
  }
 ],
 "metadata": {
  "kernelspec": {
   "display_name": "Python 3 (ipykernel)",
   "language": "python",
   "name": "python3"
  },
  "language_info": {
   "codemirror_mode": {
    "name": "ipython",
    "version": 3
   },
   "file_extension": ".py",
   "mimetype": "text/x-python",
   "name": "python",
   "nbconvert_exporter": "python",
   "pygments_lexer": "ipython3",
   "version": "3.9.7"
  }
 },
 "nbformat": 4,
 "nbformat_minor": 1
}
